{
 "cells": [
  {
   "cell_type": "markdown",
   "metadata": {},
   "source": [
    "# Create Quantile Forecasts\n",
    "In this notebook, the prosumption quantile forecasts are created. Each hour of each day is forecasted separately with 100 quantile forecasts ranging from 1% to 99% in equidistant increments.\n",
    "\n",
    "The following dataset is used: <br>\n",
    "**Dataset**: [Open Power System Data. 2020 Data Package Household Data Version 2020-04-15]  \n",
    "**License**: This data is licensed under CC-BY.  \n",
    "**Accessed from**: [[OPSD Platform](https://data.open-power-system-data.org/household_data/2020-04-15/)]"
   ]
  },
  {
   "cell_type": "markdown",
   "metadata": {},
   "source": [
    "## Data Read-In & Imports"
   ]
  },
  {
   "cell_type": "code",
   "execution_count": 1,
   "metadata": {},
   "outputs": [],
   "source": [
    "import pandas as pd\n",
    "import numpy as np\n",
    "import matplotlib.pyplot as plt\n",
    "from typing import Optional, Tuple\n",
    "from datetime import datetime\n",
    "import os\n",
    "\n",
    "from darts import TimeSeries, concatenate\n",
    "from darts.dataprocessing.transformers import Scaler\n",
    "from darts.models import TFTModel\n",
    "from darts.metrics import mape\n",
    "from darts.utils.timeseries_generation import datetime_attribute_timeseries\n",
    "from darts.utils.likelihood_models import QuantileRegression\n",
    "from darts.utils.data import MixedCovariatesTrainingDataset\n",
    "from darts.explainability.tft_explainer import TFTExplainer\n",
    "from darts.models import TFTModel\n",
    "\n",
    "from pytorch_lightning.callbacks.early_stopping import EarlyStopping"
   ]
  },
  {
   "cell_type": "code",
   "execution_count": 2,
   "metadata": {
    "id": "yEUJ740zQU8l"
   },
   "outputs": [],
   "source": [
    "data = pd.read_csv('https://data.open-power-system-data.org/household_data/2020-04-15/household_data_60min_singleindex.csv', date_format='%Y-%m-%dT%H:%M:%SZ', index_col = \"utc_timestamp\", parse_dates=True , sep=',')\n",
    "data.index = pd.to_datetime(data.index)\n",
    "\n",
    "# parse time stamp from utc to local time utc to cest\n",
    "data.index = data.index + pd.Timedelta(hours=2)\n",
    "\n",
    "# rename index to cest_timestamp\n",
    "data.index.name = 'cest_timestamp'\n",
    "valid_buildings = ['residential4']\n",
    "\n",
    "def get_building_prosumption_data(data, building):\n",
    "    prosumption = data[f\"DE_KN_{building}_grid_import\"].diff(1) - data[f\"DE_KN_{building}_grid_export\"].diff(1)\n",
    "    return prosumption.asfreq('1h').dropna()\n",
    "\n",
    "data_selected_buildings_prosumption = [(building, get_building_prosumption_data(data, building)) for building in valid_buildings ]"
   ]
  },
  {
   "cell_type": "code",
   "execution_count": 3,
   "metadata": {},
   "outputs": [],
   "source": [
    "os.makedirs('../data/ground_truth', exist_ok=True)\n",
    "for building, prosumption in data_selected_buildings_prosumption:\n",
    "    prosumption.to_csv(f\"../data/ground_truth/{building}_prosumption.csv\")"
   ]
  },
  {
   "cell_type": "markdown",
   "metadata": {},
   "source": [
    "## Create Forecasts"
   ]
  },
  {
   "cell_type": "code",
   "execution_count": 4,
   "metadata": {},
   "outputs": [],
   "source": [
    "class MixedCovariates6AMTrainingDataset(MixedCovariatesTrainingDataset):\n",
    "    \"\"\"\n",
    "    Custom Dataset only contain 6 a.m. data\n",
    "\n",
    "    # currtenly only support \n",
    "    past_target, past_covariates, historic_future_covariates, future_covariates, future_target\n",
    "\n",
    "    not support sample_weight and static_covariates\n",
    "    \n",
    "    \"\"\"\n",
    "    def __init__(self, series: TimeSeries, past_covariates: Optional[TimeSeries], \n",
    "                 historic_future_covariates: Optional[TimeSeries], \n",
    "                 future_covariates: Optional[TimeSeries], \n",
    "                 static_covariates: Optional[np.ndarray], input_chunk_length: int, \n",
    "                 output_chunk_length: int):\n",
    "        super().__init__()\n",
    "        self.series = series\n",
    "        self.past_covariates = past_covariates\n",
    "        self.historic_future_covariates = historic_future_covariates\n",
    "        self.future_covariates = future_covariates\n",
    "        self.static_covariates = static_covariates\n",
    "        self.input_chunk_length = input_chunk_length\n",
    "        self.output_chunk_length = output_chunk_length\n",
    "        \n",
    "        # Identify valid indices for 6 a.m. data\n",
    "        self.valid_indices = np.where(self.series.time_index.hour == 6)[0]\n",
    "        # Filter valid indices to ensure we have enough data for output chunks\n",
    "        self.valid_indices = self.valid_indices[self.valid_indices >= self.input_chunk_length]\n",
    "\n",
    "    def __len__(self) -> int:\n",
    "        return len(self.valid_indices)\n",
    "\n",
    "    def __getitem__(self, idx: int) -> Tuple[np.ndarray, Optional[np.ndarray], Optional[np.ndarray], Optional[np.ndarray], Optional[np.ndarray], np.ndarray]:\n",
    "        actual_index = self.valid_indices[idx]\n",
    "        \n",
    "        start_past_index = max(0, actual_index - self.input_chunk_length)\n",
    "        \n",
    "        # Get the past and future targets using the actual index\n",
    "        past_target = self.series.values()[start_past_index: actual_index]\n",
    "        future_target = self.series.values()[actual_index: actual_index + self.output_chunk_length]\n",
    "\n",
    "        # Use None for any optional covariates if they are not present\n",
    "        past_covariates = (self.past_covariates.values()[start_past_index: actual_index] \n",
    "                           if self.past_covariates is not None else None)\n",
    "        historic_future_covariates = (self.historic_future_covariates.values()[start_past_index: actual_index] \n",
    "                                       if self.historic_future_covariates is not None else None)\n",
    "        future_covariates = (self.future_covariates.values()[actual_index: actual_index + self.output_chunk_length]\n",
    "                             if self.future_covariates is not None else None)\n",
    "\n",
    "        # Use None for static covariates and sample weight\n",
    "        return (past_target, past_covariates, historic_future_covariates, future_covariates, None, None, future_target)\n",
    "    \n",
    "    \"\"\" equivalent to sequential_dataset class darts    \n",
    "    (\n",
    "            past_target,\n",
    "            past_covariate,\n",
    "            historic_future_covariate,\n",
    "            future_covariate,\n",
    "            static_covariate,\n",
    "            sample_weight,\n",
    "            future_target,\n",
    "        )\n",
    "    \n",
    "    \"\"\""
   ]
  },
  {
   "cell_type": "code",
   "execution_count": 5,
   "metadata": {},
   "outputs": [
    {
     "name": "stderr",
     "output_type": "stream",
     "text": [
      "GPU available: True (cuda), used: True\n",
      "TPU available: False, using: 0 TPU cores\n",
      "HPU available: False, using: 0 HPUs\n",
      "You are using a CUDA device ('NVIDIA GeForce RTX 3090') that has Tensor Cores. To properly utilize them, you should set `torch.set_float32_matmul_precision('medium' | 'high')` which will trade-off precision for performance. For more details, read https://pytorch.org/docs/stable/generated/torch.set_float32_matmul_precision.html#torch.set_float32_matmul_precision\n",
      "LOCAL_RANK: 0 - CUDA_VISIBLE_DEVICES: [0]\n",
      "\n",
      "   | Name                              | Type                             | Params | Mode \n",
      "------------------------------------------------------------------------------------------------\n",
      "0  | train_metrics                     | MetricCollection                 | 0      | train\n",
      "1  | val_metrics                       | MetricCollection                 | 0      | train\n",
      "2  | input_embeddings                  | _MultiEmbedding                  | 0      | train\n",
      "3  | static_covariates_vsn             | _VariableSelectionNetwork        | 0      | train\n",
      "4  | encoder_vsn                       | _VariableSelectionNetwork        | 5.9 K  | train\n",
      "5  | decoder_vsn                       | _VariableSelectionNetwork        | 2.4 K  | train\n",
      "6  | static_context_grn                | _GatedResidualNetwork            | 1.1 K  | train\n",
      "7  | static_context_hidden_encoder_grn | _GatedResidualNetwork            | 1.1 K  | train\n",
      "8  | static_context_cell_encoder_grn   | _GatedResidualNetwork            | 1.1 K  | train\n",
      "9  | static_context_enrichment         | _GatedResidualNetwork            | 1.1 K  | train\n",
      "10 | lstm_encoder                      | LSTM                             | 2.2 K  | train\n",
      "11 | lstm_decoder                      | LSTM                             | 2.2 K  | train\n",
      "12 | post_lstm_gan                     | _GateAddNorm                     | 576    | train\n",
      "13 | static_enrichment_grn             | _GatedResidualNetwork            | 1.4 K  | train\n",
      "14 | multihead_attn                    | _InterpretableMultiHeadAttention | 676    | train\n",
      "15 | post_attn_gan                     | _GateAddNorm                     | 576    | train\n",
      "16 | feed_forward_block                | _GatedResidualNetwork            | 1.1 K  | train\n",
      "17 | pre_output_gan                    | _GateAddNorm                     | 576    | train\n",
      "18 | output_layer                      | Linear                           | 1.7 K  | train\n",
      "------------------------------------------------------------------------------------------------\n",
      "23.6 K    Trainable params\n",
      "0         Non-trainable params\n",
      "23.6 K    Total params\n",
      "0.094     Total estimated model params size (MB)\n",
      "334       Modules in train mode\n",
      "0         Modules in eval mode\n"
     ]
    },
    {
     "data": {
      "application/vnd.jupyter.widget-view+json": {
       "model_id": "34348351399f4256894464c8e96cf883",
       "version_major": 2,
       "version_minor": 0
      },
      "text/plain": [
       "Sanity Checking: |          | 0/? [00:00<?, ?it/s]"
      ]
     },
     "metadata": {},
     "output_type": "display_data"
    },
    {
     "data": {
      "application/vnd.jupyter.widget-view+json": {
       "model_id": "5cda2029e4d94ac9ac3bd1bb2819e88c",
       "version_major": 2,
       "version_minor": 0
      },
      "text/plain": [
       "Training: |          | 0/? [00:00<?, ?it/s]"
      ]
     },
     "metadata": {},
     "output_type": "display_data"
    },
    {
     "data": {
      "application/vnd.jupyter.widget-view+json": {
       "model_id": "b9046c32ec954992a72743968f10b6d6",
       "version_major": 2,
       "version_minor": 0
      },
      "text/plain": [
       "Validation: |          | 0/? [00:00<?, ?it/s]"
      ]
     },
     "metadata": {},
     "output_type": "display_data"
    },
    {
     "data": {
      "application/vnd.jupyter.widget-view+json": {
       "model_id": "f936bb823c8844839406a796ed42f375",
       "version_major": 2,
       "version_minor": 0
      },
      "text/plain": [
       "Validation: |          | 0/? [00:00<?, ?it/s]"
      ]
     },
     "metadata": {},
     "output_type": "display_data"
    },
    {
     "data": {
      "application/vnd.jupyter.widget-view+json": {
       "model_id": "7bd01e9aa8df4fcaa7ead38263ca364b",
       "version_major": 2,
       "version_minor": 0
      },
      "text/plain": [
       "Validation: |          | 0/? [00:00<?, ?it/s]"
      ]
     },
     "metadata": {},
     "output_type": "display_data"
    },
    {
     "data": {
      "application/vnd.jupyter.widget-view+json": {
       "model_id": "df3993eee1cc4de4adbe366e4ec47625",
       "version_major": 2,
       "version_minor": 0
      },
      "text/plain": [
       "Validation: |          | 0/? [00:00<?, ?it/s]"
      ]
     },
     "metadata": {},
     "output_type": "display_data"
    },
    {
     "data": {
      "application/vnd.jupyter.widget-view+json": {
       "model_id": "195d76685f0f4bed8ca99bb165dcb6d1",
       "version_major": 2,
       "version_minor": 0
      },
      "text/plain": [
       "Validation: |          | 0/? [00:00<?, ?it/s]"
      ]
     },
     "metadata": {},
     "output_type": "display_data"
    },
    {
     "data": {
      "application/vnd.jupyter.widget-view+json": {
       "model_id": "0c71f01bd6b842e0a732b1179775c1d0",
       "version_major": 2,
       "version_minor": 0
      },
      "text/plain": [
       "Validation: |          | 0/? [00:00<?, ?it/s]"
      ]
     },
     "metadata": {},
     "output_type": "display_data"
    },
    {
     "data": {
      "application/vnd.jupyter.widget-view+json": {
       "model_id": "6c6bc589cd7e4d53b06bd71d441687bf",
       "version_major": 2,
       "version_minor": 0
      },
      "text/plain": [
       "Validation: |          | 0/? [00:00<?, ?it/s]"
      ]
     },
     "metadata": {},
     "output_type": "display_data"
    },
    {
     "data": {
      "application/vnd.jupyter.widget-view+json": {
       "model_id": "74249be18e824550aaac5e98affea7ba",
       "version_major": 2,
       "version_minor": 0
      },
      "text/plain": [
       "Validation: |          | 0/? [00:00<?, ?it/s]"
      ]
     },
     "metadata": {},
     "output_type": "display_data"
    },
    {
     "data": {
      "application/vnd.jupyter.widget-view+json": {
       "model_id": "29f86cdc646147ccb243715fef4f5c17",
       "version_major": 2,
       "version_minor": 0
      },
      "text/plain": [
       "Validation: |          | 0/? [00:00<?, ?it/s]"
      ]
     },
     "metadata": {},
     "output_type": "display_data"
    },
    {
     "data": {
      "application/vnd.jupyter.widget-view+json": {
       "model_id": "6b0c03e8f90d47fdb8f17e88173f32f9",
       "version_major": 2,
       "version_minor": 0
      },
      "text/plain": [
       "Validation: |          | 0/? [00:00<?, ?it/s]"
      ]
     },
     "metadata": {},
     "output_type": "display_data"
    },
    {
     "data": {
      "application/vnd.jupyter.widget-view+json": {
       "model_id": "ac75df3e0e6b4af883057c83b4cb01eb",
       "version_major": 2,
       "version_minor": 0
      },
      "text/plain": [
       "Validation: |          | 0/? [00:00<?, ?it/s]"
      ]
     },
     "metadata": {},
     "output_type": "display_data"
    },
    {
     "data": {
      "application/vnd.jupyter.widget-view+json": {
       "model_id": "9093f4d8d3534006aa77f3a2d270743e",
       "version_major": 2,
       "version_minor": 0
      },
      "text/plain": [
       "Validation: |          | 0/? [00:00<?, ?it/s]"
      ]
     },
     "metadata": {},
     "output_type": "display_data"
    },
    {
     "data": {
      "application/vnd.jupyter.widget-view+json": {
       "model_id": "cc44e5d636f34116a7f93f36686829d5",
       "version_major": 2,
       "version_minor": 0
      },
      "text/plain": [
       "Validation: |          | 0/? [00:00<?, ?it/s]"
      ]
     },
     "metadata": {},
     "output_type": "display_data"
    },
    {
     "data": {
      "application/vnd.jupyter.widget-view+json": {
       "model_id": "84db52cf87f24d81af9fa3c66e6e2297",
       "version_major": 2,
       "version_minor": 0
      },
      "text/plain": [
       "Validation: |          | 0/? [00:00<?, ?it/s]"
      ]
     },
     "metadata": {},
     "output_type": "display_data"
    },
    {
     "data": {
      "application/vnd.jupyter.widget-view+json": {
       "model_id": "fa7d51a30bea42bdaf713daa3d7b039b",
       "version_major": 2,
       "version_minor": 0
      },
      "text/plain": [
       "Validation: |          | 0/? [00:00<?, ?it/s]"
      ]
     },
     "metadata": {},
     "output_type": "display_data"
    },
    {
     "data": {
      "application/vnd.jupyter.widget-view+json": {
       "model_id": "4635c789677247579f4a8d014f413d94",
       "version_major": 2,
       "version_minor": 0
      },
      "text/plain": [
       "Validation: |          | 0/? [00:00<?, ?it/s]"
      ]
     },
     "metadata": {},
     "output_type": "display_data"
    },
    {
     "data": {
      "application/vnd.jupyter.widget-view+json": {
       "model_id": "1066c2a6a5e04d2dab18e42523fb36b9",
       "version_major": 2,
       "version_minor": 0
      },
      "text/plain": [
       "Validation: |          | 0/? [00:00<?, ?it/s]"
      ]
     },
     "metadata": {},
     "output_type": "display_data"
    },
    {
     "data": {
      "application/vnd.jupyter.widget-view+json": {
       "model_id": "bee2137a646d441a8a742bc2b9be8236",
       "version_major": 2,
       "version_minor": 0
      },
      "text/plain": [
       "Validation: |          | 0/? [00:00<?, ?it/s]"
      ]
     },
     "metadata": {},
     "output_type": "display_data"
    },
    {
     "data": {
      "application/vnd.jupyter.widget-view+json": {
       "model_id": "97feb53179b64fe79f398512af17ce44",
       "version_major": 2,
       "version_minor": 0
      },
      "text/plain": [
       "Validation: |          | 0/? [00:00<?, ?it/s]"
      ]
     },
     "metadata": {},
     "output_type": "display_data"
    },
    {
     "data": {
      "application/vnd.jupyter.widget-view+json": {
       "model_id": "378d818fd84241c7b1cfbbb621861e45",
       "version_major": 2,
       "version_minor": 0
      },
      "text/plain": [
       "Validation: |          | 0/? [00:00<?, ?it/s]"
      ]
     },
     "metadata": {},
     "output_type": "display_data"
    },
    {
     "data": {
      "application/vnd.jupyter.widget-view+json": {
       "model_id": "81d3eb2303a448ebbd6e50fe297137ba",
       "version_major": 2,
       "version_minor": 0
      },
      "text/plain": [
       "Validation: |          | 0/? [00:00<?, ?it/s]"
      ]
     },
     "metadata": {},
     "output_type": "display_data"
    },
    {
     "data": {
      "application/vnd.jupyter.widget-view+json": {
       "model_id": "d051a8c1bf0c45a39c26293f8f0a5125",
       "version_major": 2,
       "version_minor": 0
      },
      "text/plain": [
       "Validation: |          | 0/? [00:00<?, ?it/s]"
      ]
     },
     "metadata": {},
     "output_type": "display_data"
    },
    {
     "data": {
      "application/vnd.jupyter.widget-view+json": {
       "model_id": "b27128b054524b5f8ace61676d64eed0",
       "version_major": 2,
       "version_minor": 0
      },
      "text/plain": [
       "Validation: |          | 0/? [00:00<?, ?it/s]"
      ]
     },
     "metadata": {},
     "output_type": "display_data"
    },
    {
     "data": {
      "application/vnd.jupyter.widget-view+json": {
       "model_id": "f592b2142e0a4240a1ae5a84f68249b9",
       "version_major": 2,
       "version_minor": 0
      },
      "text/plain": [
       "Validation: |          | 0/? [00:00<?, ?it/s]"
      ]
     },
     "metadata": {},
     "output_type": "display_data"
    },
    {
     "data": {
      "application/vnd.jupyter.widget-view+json": {
       "model_id": "4126603674ca43b690545bce3541da81",
       "version_major": 2,
       "version_minor": 0
      },
      "text/plain": [
       "Validation: |          | 0/? [00:00<?, ?it/s]"
      ]
     },
     "metadata": {},
     "output_type": "display_data"
    },
    {
     "data": {
      "application/vnd.jupyter.widget-view+json": {
       "model_id": "67d681d1a9ec4f98bbe8a55a0fcef2a0",
       "version_major": 2,
       "version_minor": 0
      },
      "text/plain": [
       "Validation: |          | 0/? [00:00<?, ?it/s]"
      ]
     },
     "metadata": {},
     "output_type": "display_data"
    },
    {
     "data": {
      "application/vnd.jupyter.widget-view+json": {
       "model_id": "44b490acf2e947ff8a6fda90e7c5c94c",
       "version_major": 2,
       "version_minor": 0
      },
      "text/plain": [
       "Validation: |          | 0/? [00:00<?, ?it/s]"
      ]
     },
     "metadata": {},
     "output_type": "display_data"
    },
    {
     "data": {
      "application/vnd.jupyter.widget-view+json": {
       "model_id": "87385b332f124443928d9f66adb1d81e",
       "version_major": 2,
       "version_minor": 0
      },
      "text/plain": [
       "Validation: |          | 0/? [00:00<?, ?it/s]"
      ]
     },
     "metadata": {},
     "output_type": "display_data"
    },
    {
     "data": {
      "application/vnd.jupyter.widget-view+json": {
       "model_id": "5ace67444da342ec9752f8ac8fff537b",
       "version_major": 2,
       "version_minor": 0
      },
      "text/plain": [
       "Validation: |          | 0/? [00:00<?, ?it/s]"
      ]
     },
     "metadata": {},
     "output_type": "display_data"
    },
    {
     "data": {
      "application/vnd.jupyter.widget-view+json": {
       "model_id": "0e548e1fb1e445f6ac457e881903ef43",
       "version_major": 2,
       "version_minor": 0
      },
      "text/plain": [
       "Validation: |          | 0/? [00:00<?, ?it/s]"
      ]
     },
     "metadata": {},
     "output_type": "display_data"
    },
    {
     "data": {
      "application/vnd.jupyter.widget-view+json": {
       "model_id": "7d6f810b4e284656b48e28a224380557",
       "version_major": 2,
       "version_minor": 0
      },
      "text/plain": [
       "Validation: |          | 0/? [00:00<?, ?it/s]"
      ]
     },
     "metadata": {},
     "output_type": "display_data"
    },
    {
     "data": {
      "application/vnd.jupyter.widget-view+json": {
       "model_id": "fcd68c7013704129829cb8f8374b73f0",
       "version_major": 2,
       "version_minor": 0
      },
      "text/plain": [
       "Validation: |          | 0/? [00:00<?, ?it/s]"
      ]
     },
     "metadata": {},
     "output_type": "display_data"
    },
    {
     "data": {
      "application/vnd.jupyter.widget-view+json": {
       "model_id": "426658697408493986b6866ce03bdf53",
       "version_major": 2,
       "version_minor": 0
      },
      "text/plain": [
       "Validation: |          | 0/? [00:00<?, ?it/s]"
      ]
     },
     "metadata": {},
     "output_type": "display_data"
    },
    {
     "data": {
      "application/vnd.jupyter.widget-view+json": {
       "model_id": "75ede8333e044c7fbff45f17465956ed",
       "version_major": 2,
       "version_minor": 0
      },
      "text/plain": [
       "Validation: |          | 0/? [00:00<?, ?it/s]"
      ]
     },
     "metadata": {},
     "output_type": "display_data"
    },
    {
     "data": {
      "application/vnd.jupyter.widget-view+json": {
       "model_id": "40101b8a7ddb490189fa06ffbf39ab8e",
       "version_major": 2,
       "version_minor": 0
      },
      "text/plain": [
       "Validation: |          | 0/? [00:00<?, ?it/s]"
      ]
     },
     "metadata": {},
     "output_type": "display_data"
    },
    {
     "data": {
      "application/vnd.jupyter.widget-view+json": {
       "model_id": "da661b4d1d2149909b7951aefae91054",
       "version_major": 2,
       "version_minor": 0
      },
      "text/plain": [
       "Validation: |          | 0/? [00:00<?, ?it/s]"
      ]
     },
     "metadata": {},
     "output_type": "display_data"
    },
    {
     "data": {
      "application/vnd.jupyter.widget-view+json": {
       "model_id": "124a395173f64204b3e7673bbfe26309",
       "version_major": 2,
       "version_minor": 0
      },
      "text/plain": [
       "Validation: |          | 0/? [00:00<?, ?it/s]"
      ]
     },
     "metadata": {},
     "output_type": "display_data"
    },
    {
     "data": {
      "application/vnd.jupyter.widget-view+json": {
       "model_id": "abb19fc940bf44ac9b9b195ff016595e",
       "version_major": 2,
       "version_minor": 0
      },
      "text/plain": [
       "Validation: |          | 0/? [00:00<?, ?it/s]"
      ]
     },
     "metadata": {},
     "output_type": "display_data"
    },
    {
     "data": {
      "application/vnd.jupyter.widget-view+json": {
       "model_id": "8c2e0d0e7ea9413a9fa20ee6af8e3b5f",
       "version_major": 2,
       "version_minor": 0
      },
      "text/plain": [
       "Validation: |          | 0/? [00:00<?, ?it/s]"
      ]
     },
     "metadata": {},
     "output_type": "display_data"
    },
    {
     "data": {
      "application/vnd.jupyter.widget-view+json": {
       "model_id": "6e082383e37e4b24ba85ff2ebc4bdf2d",
       "version_major": 2,
       "version_minor": 0
      },
      "text/plain": [
       "Validation: |          | 0/? [00:00<?, ?it/s]"
      ]
     },
     "metadata": {},
     "output_type": "display_data"
    },
    {
     "data": {
      "application/vnd.jupyter.widget-view+json": {
       "model_id": "04b740ae8df646b0b6c3862dcb7e6afb",
       "version_major": 2,
       "version_minor": 0
      },
      "text/plain": [
       "Validation: |          | 0/? [00:00<?, ?it/s]"
      ]
     },
     "metadata": {},
     "output_type": "display_data"
    },
    {
     "data": {
      "application/vnd.jupyter.widget-view+json": {
       "model_id": "0013c2b52c6e462cb9446da52aa5ff8f",
       "version_major": 2,
       "version_minor": 0
      },
      "text/plain": [
       "Validation: |          | 0/? [00:00<?, ?it/s]"
      ]
     },
     "metadata": {},
     "output_type": "display_data"
    },
    {
     "data": {
      "application/vnd.jupyter.widget-view+json": {
       "model_id": "70f3208cc96d42b0b62f79e66560401f",
       "version_major": 2,
       "version_minor": 0
      },
      "text/plain": [
       "Validation: |          | 0/? [00:00<?, ?it/s]"
      ]
     },
     "metadata": {},
     "output_type": "display_data"
    },
    {
     "data": {
      "application/vnd.jupyter.widget-view+json": {
       "model_id": "a33cfa8e983542fb8f2ad64179b03138",
       "version_major": 2,
       "version_minor": 0
      },
      "text/plain": [
       "Validation: |          | 0/? [00:00<?, ?it/s]"
      ]
     },
     "metadata": {},
     "output_type": "display_data"
    },
    {
     "data": {
      "application/vnd.jupyter.widget-view+json": {
       "model_id": "1b39b6bdc20b467e9f106490241a0ef3",
       "version_major": 2,
       "version_minor": 0
      },
      "text/plain": [
       "Validation: |          | 0/? [00:00<?, ?it/s]"
      ]
     },
     "metadata": {},
     "output_type": "display_data"
    },
    {
     "data": {
      "application/vnd.jupyter.widget-view+json": {
       "model_id": "5e09c30f74f84ad8a0b5dca501f7f5e8",
       "version_major": 2,
       "version_minor": 0
      },
      "text/plain": [
       "Validation: |          | 0/? [00:00<?, ?it/s]"
      ]
     },
     "metadata": {},
     "output_type": "display_data"
    },
    {
     "data": {
      "application/vnd.jupyter.widget-view+json": {
       "model_id": "582fff1246794e34abe3d26b53c7fbf0",
       "version_major": 2,
       "version_minor": 0
      },
      "text/plain": [
       "Validation: |          | 0/? [00:00<?, ?it/s]"
      ]
     },
     "metadata": {},
     "output_type": "display_data"
    },
    {
     "data": {
      "application/vnd.jupyter.widget-view+json": {
       "model_id": "4667d4db02a34448986631e51f9e0e0a",
       "version_major": 2,
       "version_minor": 0
      },
      "text/plain": [
       "Validation: |          | 0/? [00:00<?, ?it/s]"
      ]
     },
     "metadata": {},
     "output_type": "display_data"
    },
    {
     "data": {
      "application/vnd.jupyter.widget-view+json": {
       "model_id": "38d29b51eedd40fb9b193c55e13d161e",
       "version_major": 2,
       "version_minor": 0
      },
      "text/plain": [
       "Validation: |          | 0/? [00:00<?, ?it/s]"
      ]
     },
     "metadata": {},
     "output_type": "display_data"
    }
   ],
   "source": [
    "train_split = 365*24 - 1\n",
    "validation_split = 90 * 24\n",
    "\n",
    "for building, prosumption in data_selected_buildings_prosumption:\n",
    "    # make data starting with the first 00:00 Timestamp\n",
    "    first_prosumption_index = prosumption[prosumption.index.hour == 6]\n",
    "    prosumption = prosumption[first_prosumption_index.index[0]:]\n",
    "\n",
    "    # get the timestamp after train split\n",
    "    training_cutoff = prosumption.index[train_split]\n",
    "    training_cutoff = pd.Timestamp(training_cutoff)\n",
    "\n",
    "    validation_cutoff = prosumption.index[train_split + validation_split]\n",
    "\n",
    "    # generate the time series\n",
    "    prosumption_series = TimeSeries.from_series(prosumption)\n",
    "    prosumption_series.astype(np.float32)\n",
    "\n",
    "    train, test = prosumption_series.split_after(training_cutoff)\n",
    "    val, test = test.split_after(validation_cutoff)\n",
    "\n",
    "    transformer = Scaler()\n",
    "    train_transformed = transformer.fit_transform(train)\n",
    "    test_transformed = transformer.transform(test)\n",
    "    val_transformed = transformer.transform(val)\n",
    "    series_transformed = transformer.transform(prosumption_series)\n",
    "\n",
    "\n",
    "    covariates = datetime_attribute_timeseries(prosumption_series, attribute=\"year\", one_hot=False)\n",
    "    covariates = covariates.stack(\n",
    "        datetime_attribute_timeseries(prosumption_series, attribute=\"month\", one_hot=False)\n",
    "    )\n",
    "    covariates = covariates.stack(\n",
    "        datetime_attribute_timeseries(prosumption_series, attribute=\"weekday\", one_hot=False)\n",
    "    )\n",
    "    covariates = covariates.stack(\n",
    "        datetime_attribute_timeseries(prosumption_series, attribute=\"hour\", one_hot=False)\n",
    "    )\n",
    "\n",
    "    covariates = covariates.astype(np.float32)\n",
    "    scaler_covs = Scaler()\n",
    "    cov_train, cov_val = covariates.split_after(training_cutoff)\n",
    "    scaler_covs.fit(cov_train)\n",
    "    covariates_transformed = scaler_covs.transform(covariates)\n",
    "\n",
    "\n",
    "    # stop training when validation loss does not decrease more than 0.05 (`min_delta`) over\n",
    "    # a period of 5 epochs (`patience`)\n",
    "    my_stopper = EarlyStopping(\n",
    "        monitor=\"val_loss\",\n",
    "        patience=15,\n",
    "        min_delta=0.05,\n",
    "        mode='min', \n",
    "        verbose=False,\n",
    "    )\n",
    "\n",
    "    # instaniate the MixedCovariates6AMTrainingDataset\n",
    "    dataset_train = MixedCovariates6AMTrainingDataset(\n",
    "        series=train_transformed,\n",
    "        past_covariates=covariates_transformed,\n",
    "        historic_future_covariates=covariates_transformed,\n",
    "        future_covariates=covariates_transformed,\n",
    "        static_covariates=None,\n",
    "        input_chunk_length=168,\n",
    "        output_chunk_length=24\n",
    "    )\n",
    "\n",
    "    dataset_val = MixedCovariates6AMTrainingDataset(\n",
    "        series=val_transformed,\n",
    "        past_covariates=covariates_transformed,\n",
    "        historic_future_covariates=covariates_transformed,\n",
    "        future_covariates=covariates_transformed,\n",
    "        static_covariates=None,\n",
    "        input_chunk_length=168,\n",
    "        output_chunk_length=24\n",
    "    )\n",
    "    pl_trainer_kwargs={\"callbacks\": [my_stopper]}\n",
    "\n",
    "\n",
    "    # default quantiles for QuantileRegression\n",
    "    quantiles = [np.round(i,2) for i in np.arange(0.01, 1, 0.01)]\n",
    "    input_chunk_length = 168\n",
    "    forecast_horizon = 24\n",
    "    tft = TFTModel(\n",
    "        input_chunk_length=input_chunk_length,\n",
    "        output_chunk_length=forecast_horizon,\n",
    "        hidden_size=16,\n",
    "        batch_size=8,\n",
    "        n_epochs=1000,\n",
    "        likelihood=QuantileRegression(\n",
    "            quantiles=quantiles\n",
    "        ),\n",
    "        random_state=42,\n",
    "        save_checkpoints=True,\n",
    "        pl_trainer_kwargs=pl_trainer_kwargs\n",
    "    )\n",
    "\n",
    "\n",
    "    tft.fit_from_dataset(dataset_train, val_dataset=dataset_val, verbose=True)"
   ]
  },
  {
   "cell_type": "code",
   "execution_count": 6,
   "metadata": {},
   "outputs": [
    {
     "name": "stderr",
     "output_type": "stream",
     "text": [
      "/home/ws/hp5743/miniconda3/envs/forecasts_opsd_households/lib/python3.12/site-packages/darts/models/forecasting/torch_forecasting_model.py:1842: FutureWarning: You are using `torch.load` with `weights_only=False` (the current default value), which uses the default pickle module implicitly. It is possible to construct malicious pickle data which will execute arbitrary code during unpickling (See https://github.com/pytorch/pytorch/blob/main/SECURITY.md#untrusted-models for more details). In a future release, the default value for `weights_only` will be flipped to `True`. This limits the functions that could be executed during unpickling. Arbitrary objects will no longer be allowed to be loaded via this mode unless they are explicitly allowlisted by the user via `torch.serialization.add_safe_globals`. We recommend you start setting `weights_only=True` for any use case where you don't have full control of the loaded file. Please open an issue on GitHub for any issues related to this experimental feature.\n",
      "  model: TorchForecastingModel = torch.load(\n"
     ]
    }
   ],
   "source": [
    "tft = TFTModel.load_from_checkpoint(tft.model_name, best=True)"
   ]
  },
  {
   "cell_type": "code",
   "execution_count": 7,
   "metadata": {},
   "outputs": [
    {
     "name": "stderr",
     "output_type": "stream",
     "text": [
      "GPU available: True (cuda), used: True\n",
      "TPU available: False, using: 0 TPU cores\n",
      "HPU available: False, using: 0 HPUs\n",
      "LOCAL_RANK: 0 - CUDA_VISIBLE_DEVICES: [0]\n"
     ]
    },
    {
     "data": {
      "application/vnd.jupyter.widget-view+json": {
       "model_id": "8f84222d893346c088d6eee69cedb122",
       "version_major": 2,
       "version_minor": 0
      },
      "text/plain": [
       "Predicting: |          | 0/? [00:00<?, ?it/s]"
      ]
     },
     "metadata": {},
     "output_type": "display_data"
    }
   ],
   "source": [
    "num_samples = 100\n",
    "backtest_series = tft.historical_forecasts(\n",
    "    series_transformed,\n",
    "    future_covariates = covariates_transformed,\n",
    "    past_covariates = covariates_transformed,\n",
    "    start=test.start_time(),\n",
    "    forecast_horizon=forecast_horizon,\n",
    "    stride=forecast_horizon,\n",
    "    last_points_only=False,\n",
    "    retrain=False,\n",
    "    verbose=True,\n",
    "    num_samples=num_samples\n",
    ")"
   ]
  },
  {
   "cell_type": "code",
   "execution_count": 8,
   "metadata": {},
   "outputs": [],
   "source": [
    "# save the forecast to csv\n",
    "transformer.inverse_transform(concatenate(backtest_series)).quantiles_df(quantiles).to_csv(f\"../data/quantile_forecasts/{building}_model_{tft.model_name}.csv\")"
   ]
  },
  {
   "cell_type": "code",
   "execution_count": 9,
   "metadata": {},
   "outputs": [
    {
     "name": "stdout",
     "output_type": "stream",
     "text": [
      "Training Start: 2015-10-11 06:00:00\n",
      "Training cutoff: 2016-10-10 05:00:00\n",
      "Validation Start: 2016-10-10 06:00:00\n",
      "Validation cutoff: 2017-01-08 05:00:00\n",
      "Test Start: 2017-01-08 06:00:00\n",
      "Test End: 2018-02-05 01:00:00\n",
      "End: 2018-02-05 01:00:00\n"
     ]
    }
   ],
   "source": [
    "# display the start\n",
    "print(f\"Training Start: {prosumption_series.start_time()}\")\n",
    "\n",
    "# display the time series cutoffs\n",
    "print(f\"Training cutoff: {training_cutoff}\")\n",
    "\n",
    "print(f\"Validation Start: {val.start_time()}\")\n",
    "print(f\"Validation cutoff: {validation_cutoff}\")\n",
    "\n",
    "print(f\"Test Start: {test.start_time()}\")\n",
    "print(f\"Test End: {test.end_time()}\")\n",
    "\n",
    "# display the end\n",
    "print(f\"End: {prosumption_series.end_time()}\")"
   ]
  },
  {
   "cell_type": "code",
   "execution_count": 10,
   "metadata": {},
   "outputs": [
    {
     "name": "stderr",
     "output_type": "stream",
     "text": [
      "GPU available: True (cuda), used: True\n",
      "TPU available: False, using: 0 TPU cores\n",
      "HPU available: False, using: 0 HPUs\n",
      "LOCAL_RANK: 0 - CUDA_VISIBLE_DEVICES: [0]\n"
     ]
    },
    {
     "data": {
      "application/vnd.jupyter.widget-view+json": {
       "model_id": "96c356e7acd04ce5b45fb1896cef6748",
       "version_major": 2,
       "version_minor": 0
      },
      "text/plain": [
       "Predicting: |          | 0/? [00:00<?, ?it/s]"
      ]
     },
     "metadata": {},
     "output_type": "display_data"
    },
    {
     "data": {
      "image/png": "[encoded data removed]",
      "text/plain": [
       "<Figure size 640x480 with 1 Axes>"
      ]
     },
     "metadata": {},
     "output_type": "display_data"
    },
    {
     "data": {
      "image/png": "[encoded data removed]",
      "text/plain": [
       "<Figure size 640x480 with 2 Axes>"
      ]
     },
     "metadata": {},
     "output_type": "display_data"
    },
    {
     "data": {
      "image/png": "[encoded data removed]",
      "text/plain": [
       "<Figure size 640x480 with 2 Axes>"
      ]
     },
     "metadata": {},
     "output_type": "display_data"
    },
    {
     "data": {
      "text/plain": [
       "<Axes: title={'center': 'Attention Heat Map'}, xlabel='Index relative to first prediction point', ylabel='Horizon'>"
      ]
     },
     "execution_count": 10,
     "metadata": {},
     "output_type": "execute_result"
    }
   ],
   "source": [
    "# create the explainer and generate explanations\n",
    "explainer = TFTExplainer(tft, background_series=series_transformed[:-100], background_future_covariates=covariates_transformed, background_past_covariates=covariates_transformed)\n",
    "results = explainer.explain()\n",
    "# plot the results\n",
    "explainer.plot_attention(results, plot_type=\"all\")\n",
    "explainer.plot_variable_selection(results)\n",
    "\n",
    "explainer.plot_attention(results, plot_type=\"heatmap\")"
   ]
  }
 ],
 "metadata": {
  "colab": {
   "provenance": []
  },
  "kernelspec": {
   "display_name": "forecasts_opsd_households",
   "language": "python",
   "name": "python3"
  },
  "language_info": {
   "codemirror_mode": {
    "name": "ipython",
    "version": 3
   },
   "file_extension": ".py",
   "mimetype": "text/x-python",
   "name": "python",
   "nbconvert_exporter": "python",
   "pygments_lexer": "ipython3",
   "version": "3.12.5"
  },
  "orig_nbformat": 4
 },
 "nbformat": 4,
 "nbformat_minor": 0
}
